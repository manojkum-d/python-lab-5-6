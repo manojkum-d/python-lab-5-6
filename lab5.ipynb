{
 "cells": [
  {
   "cell_type": "markdown",
   "metadata": {},
   "source": [
    "Lab Exercise 5\n",
    "Q1. Write a program to handle the exception of ZeroDivisionError.\n"
   ]
  },
  {
   "cell_type": "code",
   "execution_count": 3,
   "metadata": {},
   "outputs": [
    {
     "name": "stdout",
     "output_type": "stream",
     "text": [
      "Error: Division by zero is not allowed.\n",
      "Program execution completed.\n",
      "Program finished.\n"
     ]
    }
   ],
   "source": [
    "def divide_numbers(a, b):\n",
    "    try:\n",
    "        result = a / b\n",
    "        return result\n",
    "    except ZeroDivisionError:\n",
    "        raise ZeroDivisionError(\"Error: Division by zero is not allowed.\")\n",
    "\n",
    "try:\n",
    "    numerator = float(input(\"Enter the numerator: \"))\n",
    "    denominator = float(input(\"Enter the denominator: \"))\n",
    "    \n",
    "    result = divide_numbers(numerator, denominator)\n",
    "    print(f\"Result of division: {result}\")\n",
    "\n",
    "except ZeroDivisionError as e:\n",
    "    print(e)\n",
    "\n",
    "finally:\n",
    "    print(\"Program execution completed.\")\n",
    "\n",
    "print(\"Program finished.\")\n",
    "\n"
   ]
  },
  {
   "cell_type": "markdown",
   "metadata": {},
   "source": [
    "Q2. Write a program to handle the exception of IndexError."
   ]
  },
  {
   "cell_type": "code",
   "execution_count": 4,
   "metadata": {},
   "outputs": [
    {
     "name": "stdout",
     "output_type": "stream",
     "text": [
      "Error: Index out of range.\n",
      "Program execution completed.\n",
      "Program finished.\n"
     ]
    }
   ],
   "source": [
    "def access_list_element(lst, index):\n",
    "    try:\n",
    "        value = lst[index]\n",
    "        return value\n",
    "    except IndexError:\n",
    "        raise IndexError(\"Error: Index out of range.\")\n",
    "\n",
    "try:\n",
    "    my_list = [10, 20, 30, 40, 50]\n",
    "    index_to_access = int(input(\"Enter an index to access from the list: \"))\n",
    "    \n",
    "    accessed_value = access_list_element(my_list, index_to_access)\n",
    "    print(f\"Value at index {index_to_access}: {accessed_value}\")\n",
    "\n",
    "except IndexError as e:\n",
    "    print(e)\n",
    "\n",
    "finally:\n",
    "    print(\"Program execution completed.\")\n",
    "\n",
    "print(\"Program finished.\")\n"
   ]
  }
 ],
 "metadata": {
  "kernelspec": {
   "display_name": "Python 3",
   "language": "python",
   "name": "python3"
  },
  "language_info": {
   "codemirror_mode": {
    "name": "ipython",
    "version": 3
   },
   "file_extension": ".py",
   "mimetype": "text/x-python",
   "name": "python",
   "nbconvert_exporter": "python",
   "pygments_lexer": "ipython3",
   "version": "3.10.11"
  },
  "orig_nbformat": 4
 },
 "nbformat": 4,
 "nbformat_minor": 2
}
