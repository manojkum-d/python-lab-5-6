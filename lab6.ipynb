{
 "cells": [
  {
   "cell_type": "markdown",
   "metadata": {},
   "source": [
    "Q1. Write a program using the Regular Exception and create a function that accepts a string and searches it for a valid phone number.\n",
    "Return the phone number if found.\n",
    "A valid phone number may be one of the following:\n",
    "(xxx)-xxx-xxxx\n",
    "xxx-xxx-xxxx\n"
   ]
  },
  {
   "cell_type": "code",
   "execution_count": 3,
   "metadata": {},
   "outputs": [
    {
     "name": "stdout",
     "output_type": "stream",
     "text": [
      "Valid phone number found: 555-123-4567\n",
      "Program execution completed.\n"
     ]
    }
   ],
   "source": [
    "import re\n",
    "\n",
    "def find_phone_number(text):\n",
    "    pattern = re.compile(r'(\\(\\d{3}\\)-\\d{3}-\\d{4}|\\d{3}-\\d{3}-\\d{4})')\n",
    "    match = pattern.search(text)\n",
    "    if match:\n",
    "        return match.group()\n",
    "    else:\n",
    "        return None\n",
    "\n",
    "try:\n",
    "    input_text = input(\"Enter a text to search for a phone number: \")\n",
    "    phone_number = find_phone_number(input_text)\n",
    "    \n",
    "    if phone_number:\n",
    "        print(f\"Valid phone number found: {phone_number}\")\n",
    "    else:\n",
    "        print(\"No valid phone number found in the text.\")\n",
    "\n",
    "except Exception as e:\n",
    "    print(f\"An error occurred: {e}\")\n",
    "\n",
    "finally:\n",
    "    print(\"Program execution completed.\")\n"
   ]
  },
  {
   "cell_type": "markdown",
   "metadata": {},
   "source": [
    "Q2. Write a function that employs regular expressions to ensure the password given to the function is strong.\n",
    "A strong password is defined as follows:\n",
    "·       at least eight characters long\n",
    "·       contains one uppercase character\n",
    "·       contains one lowercase character\n",
    "·       has at least one digit\n",
    "·       has at least one special character\n",
    "[For instance: Christ@123]"
   ]
  },
  {
   "cell_type": "code",
   "execution_count": 5,
   "metadata": {},
   "outputs": [
    {
     "name": "stdout",
     "output_type": "stream",
     "text": [
      "Password is strong.\n"
     ]
    }
   ],
   "source": [
    "import re\n",
    "\n",
    "def is_strong_password(password):\n",
    "    # Define the regular expression pattern for a strong password\n",
    "    pattern = re.compile(r'^(?=.*[A-Z])(?=.*[a-z])(?=.*\\d)(?=.*[@#$%^&+=!]).{8,}$')\n",
    "    \n",
    "    # Check if the password matches the pattern\n",
    "    if pattern.match(password):\n",
    "        return True\n",
    "    else:\n",
    "        return False\n",
    "\n",
    "# Test the function\n",
    "password = input(\"Enter a password: \")\n",
    "\n",
    "if is_strong_password(password):\n",
    "    print(\"Password is strong.\")\n",
    "else:\n",
    "    print(\"Password is not strong.\")\n"
   ]
  }
 ],
 "metadata": {
  "kernelspec": {
   "display_name": "Python 3",
   "language": "python",
   "name": "python3"
  },
  "language_info": {
   "codemirror_mode": {
    "name": "ipython",
    "version": 3
   },
   "file_extension": ".py",
   "mimetype": "text/x-python",
   "name": "python",
   "nbconvert_exporter": "python",
   "pygments_lexer": "ipython3",
   "version": "3.10.11"
  },
  "orig_nbformat": 4
 },
 "nbformat": 4,
 "nbformat_minor": 2
}
